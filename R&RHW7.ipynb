{
  "nbformat": 4,
  "nbformat_minor": 0,
  "metadata": {
    "colab": {
      "provenance": [],
      "authorship_tag": "ABX9TyOpE/c8oOGoJY39dfOj9CGl",
      "include_colab_link": true
    },
    "kernelspec": {
      "name": "python3",
      "display_name": "Python 3"
    },
    "language_info": {
      "name": "python"
    }
  },
  "cells": [
    {
      "cell_type": "markdown",
      "metadata": {
        "id": "view-in-github",
        "colab_type": "text"
      },
      "source": [
        "<a href=\"https://colab.research.google.com/github/esthercheng33/rrhomework7/blob/main/R%26RHW7.ipynb\" target=\"_parent\"><img src=\"https://colab.research.google.com/assets/colab-badge.svg\" alt=\"Open In Colab\"/></a>"
      ]
    },
    {
      "cell_type": "code",
      "execution_count": 10,
      "metadata": {
        "colab": {
          "base_uri": "https://localhost:8080/"
        },
        "id": "2nw3rO8G6eMt",
        "outputId": "8923b701-4148-4527-d062-93a88c6ba740"
      },
      "outputs": [
        {
          "output_type": "stream",
          "name": "stdout",
          "text": [
            "2024-10-25\n",
            "10\n",
            "HW done by Esther Cheng\n"
          ]
        }
      ],
      "source": [
        "import datetime\n",
        "today = datetime.date.today()\n",
        "print(today)\n",
        "print(2*5)\n",
        "print(\"HW done by Esther Cheng\")\n",
        "\n"
      ]
    },
    {
      "cell_type": "markdown",
      "source": [
        "Data repositories are important in allowing researchers manage, organize, and access data efficiently and quickly. The repositories are not only a great way to disseminate researcher results, but it also allows for science to be done with integrity. Everything, from the raw data to the analysis done, will be transparently shown, which will allow others to understand what analysis was done, how it was done, and if they can reproduce the same results. With functions such as track changes being implemented within software, it is also an added layer that allows for reproducibility. Track changes allows for others to understand the rationale behind why specific analyses were run, the ability to save previous work frequently, and a place where files are regularly backed up. Finally, publishing work in places like GitHub, allows for collaboration and a place where people can easily access help from the community when needed. It adds another layer of transparency to research, and it can be explicit in helping researchers create manuscripts alongside their analysis code. All of these steps are necessary for reproducibility within computational work."
      ],
      "metadata": {
        "id": "t07v1P9j_m6h"
      }
    }
  ]
}